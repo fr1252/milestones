{
 "cells": [
  {
   "cell_type": "code",
   "execution_count": null,
   "metadata": {},
   "outputs": [],
   "source": [
    "## Create a bank account class that has two attributes: owner and balance\n",
    "## and two transactions: deposit & withdraw\n",
    "## As an added requirement, withdrawals may not exceed the available balance.\n",
    "## Instantiate your class, make several deposits and withdrawals, test to make sure the account can't be overdrawn.\n",
    "\n",
    "\n",
    "class Account:\n",
    "\n",
    "    def __init__(self, owner, balance=0):\n",
    "        \n",
    "        self.owner = owner\n",
    "        self.balance = balance\n",
    "        \n",
    "    def __str__(self):\n",
    "        return f\"Account Owner: {self.owner}\\nAccount Balance: {self.balance}\"\n",
    "    \n",
    "    def deposit(self, dep_amt):\n",
    "        \n",
    "        self.balance += dep_amt\n",
    "        print('Your deposit has been accepted')\n",
    "        \n",
    "    def withdraw(self, wit_amt):\n",
    "        \n",
    "        if self.balance >= wit_amt:\n",
    "            self.balance -= wit_amt\n",
    "            print(\"Withdraw request accepted\")\n",
    "        else:\n",
    "            print(\"Your account is overdrawn, request rejected\")\n",
    "\n",
    "            \n",
    "# 1. Instantiate the class\n",
    "acc = Account('James', 400)\n",
    "\n",
    "# 3. Show the account owner attribute\n",
    "acc.owner\n",
    "\n",
    "# 4. Show the account balance attribute\n",
    "acc.balance\n",
    "\n",
    "# 5. Make a series of deposits and withdrawals. Here, specify the amount deposited, which is dep_amt, and withrawn\n",
    "acc.deposit(50)\n",
    "\n",
    "acc.withdraw(75)\n",
    "\n",
    "# 6. Make a withdrawal that exceeds the available balance\n",
    "acc.withdraw(500)"
   ]
  },
  {
   "cell_type": "code",
   "execution_count": null,
   "metadata": {},
   "outputs": [],
   "source": []
  }
 ],
 "metadata": {
  "kernelspec": {
   "display_name": "Python 3",
   "language": "python",
   "name": "python3"
  },
  "language_info": {
   "codemirror_mode": {
    "name": "ipython",
    "version": 3
   },
   "file_extension": ".py",
   "mimetype": "text/x-python",
   "name": "python",
   "nbconvert_exporter": "python",
   "pygments_lexer": "ipython3",
   "version": "3.7.3"
  }
 },
 "nbformat": 4,
 "nbformat_minor": 2
}
