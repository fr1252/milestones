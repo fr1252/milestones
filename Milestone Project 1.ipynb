{
 "cells": [
  {
   "cell_type": "code",
   "execution_count": null,
   "metadata": {},
   "outputs": [],
   "source": []
  },
  {
   "cell_type": "markdown",
   "metadata": {},
   "source": [
    "**Step 1: Write a function that can print out a board. Set up your board as a list, where each index 1-9 corresponds with a number on a number pad, so you get a 3 by 3 board representation.**"
   ]
  },
  {
   "cell_type": "code",
   "execution_count": 12,
   "metadata": {},
   "outputs": [],
   "source": [
    "from IPython.display import clear_output\n",
    "def display_board(board):\n",
    "    clear_output()#to clear screen between moves\n",
    "    print('   |   |')\n",
    "    print(' ' + board[7] + ' | ' + board[8] + ' | ' + board[9])\n",
    "    print('   |   |')\n",
    "    print('-----------')\n",
    "    print('   |   |')\n",
    "    print(' ' + board[4] + ' | ' + board[5] + ' | ' + board[6])\n",
    "    print('   |   |')\n",
    "    print('-----------')\n",
    "    print('   |   |')\n",
    "    print(' ' + board[1] + ' | ' + board[2] + ' | ' + board[3])\n",
    "    print('   |   |')"
   ]
  },
  {
   "cell_type": "markdown",
   "metadata": {},
   "source": [
    "**TEST Step 1:** run your function on a test version of the board list, and make adjustments as necessary"
   ]
  },
  {
   "cell_type": "code",
   "execution_count": 13,
   "metadata": {},
   "outputs": [
    {
     "name": "stdout",
     "output_type": "stream",
     "text": [
      "   |   |\n",
      " X | O | X\n",
      "   |   |\n",
      "-----------\n",
      "   |   |\n",
      " O | X | O\n",
      "   |   |\n",
      "-----------\n",
      "   |   |\n",
      " X | O | X\n",
      "   |   |\n"
     ]
    }
   ],
   "source": [
    "test_board = ['#','X','O','X','O','X','O','X','O','X']\n",
    "display_board(test_board)"
   ]
  },
  {
   "cell_type": "markdown",
   "metadata": {},
   "source": [
    "**Step 2: Write a function that can take in a player input and assign their marker as 'X' or 'O'. Think about using *while* loops to continually ask until you get a correct answer.**"
   ]
  },
  {
   "cell_type": "code",
   "execution_count": 14,
   "metadata": {},
   "outputs": [],
   "source": [
    "def player_input():\n",
    "    #The marker doesn't exist, so we set it as empty. The marker here is thus no X nor O\n",
    "    #we must consider the input that the player must enter. There should be a prompt for it.\n",
    "    #Marker will now be given by the choice the the palyer inputs.\n",
    "    #if player 1 chooses 'X', player 2 automatically picks 'O'\n",
    "    marker=''\n",
    "    \n",
    "    while not (marker=='X' or marker=='O'):\n",
    "        marker=input('Player 1, please select marker X or O:').upper()\n",
    "    if marker=='X':\n",
    "        return ('X','O')\n",
    "    else:\n",
    "        return ('O','X')"
   ]
  },
  {
   "cell_type": "markdown",
   "metadata": {},
   "source": [
    "**TEST Step 2:** run the function to make sure it returns the desired output"
   ]
  },
  {
   "cell_type": "code",
   "execution_count": 15,
   "metadata": {},
   "outputs": [
    {
     "name": "stdin",
     "output_type": "stream",
     "text": [
      "Player 1, please select marker X or O: o\n"
     ]
    },
    {
     "data": {
      "text/plain": [
       "('O', 'X')"
      ]
     },
     "execution_count": 15,
     "metadata": {},
     "output_type": "execute_result"
    }
   ],
   "source": [
    "player_input()"
   ]
  },
  {
   "cell_type": "code",
   "execution_count": null,
   "metadata": {},
   "outputs": [],
   "source": []
  },
  {
   "cell_type": "markdown",
   "metadata": {},
   "source": [
    "**Step 3: Write a function that takes in the board list object, a marker ('X' or 'O'), and a desired position (number 1-9) and assigns it to the board.**"
   ]
  },
  {
   "cell_type": "code",
   "execution_count": 16,
   "metadata": {},
   "outputs": [],
   "source": [
    "def place_marker(board, marker, position):\n",
    "    board[position]=marker"
   ]
  },
  {
   "cell_type": "markdown",
   "metadata": {},
   "source": [
    "**TEST Step 3:** run the place marker function using test parameters and display the modified board"
   ]
  },
  {
   "cell_type": "code",
   "execution_count": 17,
   "metadata": {},
   "outputs": [
    {
     "name": "stdout",
     "output_type": "stream",
     "text": [
      "   |   |\n",
      " X | $ | X\n",
      "   |   |\n",
      "-----------\n",
      "   |   |\n",
      " O | X | O\n",
      "   |   |\n",
      "-----------\n",
      "   |   |\n",
      " X | O | X\n",
      "   |   |\n"
     ]
    }
   ],
   "source": [
    "place_marker(test_board,'$',8)\n",
    "display_board(test_board)"
   ]
  },
  {
   "cell_type": "code",
   "execution_count": null,
   "metadata": {},
   "outputs": [],
   "source": []
  },
  {
   "cell_type": "markdown",
   "metadata": {},
   "source": [
    "**Step 4: Write a function that takes in a board and a mark (X or O) and then checks to see if that mark has won. **"
   ]
  },
  {
   "cell_type": "code",
   "execution_count": 18,
   "metadata": {},
   "outputs": [],
   "source": [
    "def win_check(board, mark):\n",
    "    #So we have to check for different ways of wiinnning, i.e, diagonals rows, columns\n",
    "    #we use the expression board[position]=marker\n",
    "    #We then find out if a certain row, column, or diagonal executes as True if there is a win\n",
    "    #A win is only possible if there is a row, column, or diagonal with same marker. To return True, this is a boolean\n",
    "    return((board[7]==board[8]==board[9]==mark)or\n",
    "    (board[4]==board[5]==board[6]==mark)or\n",
    "    (board[1]==board[2]==board[3]==mark)or\n",
    "    (board[7]==board[4]==board[1]==mark)or\n",
    "    (board[8]==board[5]==board[2]==mark)or\n",
    "    (board[9]==board[6]==board[3]==mark)or\n",
    "    (board[7]==board[5]==board[3]==mark)or\n",
    "    (board[9]==board[5]==board[1]==mark))"
   ]
  },
  {
   "cell_type": "markdown",
   "metadata": {},
   "source": [
    "**TEST Step 4:** run the win_check function against our test_board - it should return True"
   ]
  },
  {
   "cell_type": "code",
   "execution_count": 19,
   "metadata": {},
   "outputs": [
    {
     "data": {
      "text/plain": [
       "True"
      ]
     },
     "execution_count": 19,
     "metadata": {},
     "output_type": "execute_result"
    }
   ],
   "source": [
    "win_check(test_board,'X')"
   ]
  },
  {
   "cell_type": "code",
   "execution_count": null,
   "metadata": {},
   "outputs": [],
   "source": []
  },
  {
   "cell_type": "markdown",
   "metadata": {},
   "source": [
    "**Step 5: Write a function that uses the random module to randomly decide which player goes first. You may want to lookup random.randint() Return a string of which player went first.**"
   ]
  },
  {
   "cell_type": "code",
   "execution_count": 20,
   "metadata": {},
   "outputs": [],
   "source": [
    "import random\n",
    "\n",
    "def choose_first():\n",
    "    #we choose who plays firt using the random integer selection of 0 or 1.\n",
    "    #if the value is 1, player 1 plays first, else player 2 plays first.\n",
    "    #We must return a string showing which player starts\n",
    "    #For order, we set it to start with 0\n",
    "    if random.randint(0, 1)==0:\n",
    "        return 'Player 2'\n",
    "    else:\n",
    "        return 'Player 1'"
   ]
  },
  {
   "cell_type": "code",
   "execution_count": null,
   "metadata": {},
   "outputs": [],
   "source": [
    "#"
   ]
  },
  {
   "cell_type": "markdown",
   "metadata": {},
   "source": [
    "**Step 6: Write a function that returns a boolean indicating whether a space on the board is freely available.**"
   ]
  },
  {
   "cell_type": "code",
   "execution_count": 21,
   "metadata": {},
   "outputs": [],
   "source": [
    "def space_check(board, position):\n",
    "    #A free space would me expressed as ''\n",
    "    #This is a boolen expression, so it should return True\n",
    "    #we use the board[position] to check\n",
    "    return board[position]==' '"
   ]
  },
  {
   "cell_type": "code",
   "execution_count": null,
   "metadata": {},
   "outputs": [],
   "source": []
  },
  {
   "cell_type": "markdown",
   "metadata": {},
   "source": [
    "**Step 7: Write a function that checks if the board is full and returns a boolean value. True if full, False otherwise.**"
   ]
  },
  {
   "cell_type": "code",
   "execution_count": 22,
   "metadata": {},
   "outputs": [],
   "source": [
    "def full_board_check(board):\n",
    "    #if full, no one has won, there is a tie, thus True\n",
    "    #if space is availabe, someone has won, hence False\n",
    "    #We take a position i which is in the range of 1 to 9\n",
    "    #check using space_check(board,i). If True, then there is space, thus should return False\n",
    "    for i in range(1,10):\n",
    "        if space_check(board, i):\n",
    "            return False\n",
    "    return True"
   ]
  },
  {
   "cell_type": "code",
   "execution_count": null,
   "metadata": {},
   "outputs": [],
   "source": []
  },
  {
   "cell_type": "markdown",
   "metadata": {},
   "source": [
    "**Step 8: Write a function that asks for a player's next position (as a number 1-9) and then uses the function from step 6 to check if it's a free position. If it is, then return the position for later use.**"
   ]
  },
  {
   "cell_type": "code",
   "execution_count": 23,
   "metadata": {},
   "outputs": [],
   "source": [
    "def player_choice(board):\n",
    "    #we have to set the position to 0 since there is no selected position\n",
    "    #we use a loop that will exclude position 0 from the board list using while loop\n",
    "    #we have to input a players position, which must be an integer.\n",
    "    #we use space_check(board, position) to see if the position is free\n",
    "    #we have to store the selected position, so it should be defined.\n",
    "    #we the return the position\n",
    "    position=0\n",
    "    \n",
    "    while position not in [1,2,3,4,5,6,7,8,9] or not space_check(board,position):\n",
    "        position=int(input('Please select a position between 1-9: '))\n",
    "    return position"
   ]
  },
  {
   "cell_type": "code",
   "execution_count": null,
   "metadata": {},
   "outputs": [],
   "source": []
  },
  {
   "cell_type": "markdown",
   "metadata": {},
   "source": [
    "**Step 9: Write a function that asks the player if they want to play again and returns a boolean True if they do want to play again.**"
   ]
  },
  {
   "cell_type": "code",
   "execution_count": 24,
   "metadata": {},
   "outputs": [],
   "source": [
    "def replay():\n",
    "    #this is only possible if the game has been won\n",
    "    #The answer given will determine whether the outcome is True. If they enter 'yes', which starts with 'y', thn true\n",
    "    return input('Do you wish to play again? Please answer with Yes or No: ').lower().startswith('y')"
   ]
  },
  {
   "cell_type": "code",
   "execution_count": null,
   "metadata": {},
   "outputs": [],
   "source": []
  },
  {
   "cell_type": "markdown",
   "metadata": {},
   "source": [
    "**Step 10: Here comes the hard part! Use while loops and the functions you've made to run the game!**"
   ]
  },
  {
   "cell_type": "code",
   "execution_count": null,
   "metadata": {},
   "outputs": [
    {
     "name": "stdout",
     "output_type": "stream",
     "text": [
      "   |   |\n",
      " X | O | X\n",
      "   |   |\n",
      "-----------\n",
      "   |   |\n",
      " O | X | X\n",
      "   |   |\n",
      "-----------\n",
      "   |   |\n",
      " O | X | O\n",
      "   |   |\n",
      "The game was drawn\n"
     ]
    },
    {
     "name": "stdin",
     "output_type": "stream",
     "text": [
      "Do you wish to play again? Please answer with Yes or No:  y\n"
     ]
    }
   ],
   "source": [
    "print('Hello, welcome to Tic Tac Toe')\n",
    "\n",
    "#We set the loop to True so that the game keeps playing until it's broken\n",
    "\n",
    "while True:\n",
    "    #first we reset the board objectand reassign it\n",
    "    theBoard = [' ']*10\n",
    "    #we set in the players and their markers. We use the step 2 function to get the marker\n",
    "    player1_marker,player2_marker = player_input()\n",
    "    #Decide who plays first. We use step 5 function and print the player that plays first\n",
    "    \n",
    "    player_turn = choose_first()  \n",
    "    print(player_turn + ' plays first')\n",
    "    \n",
    "    #Now we have the player. We ask them if they are ready to play. If 'yes', we set the game as on. Else game is off\n",
    "    \n",
    "    play_game = input('Are you ready to start playing? Please Yes or No?') \n",
    "    if play_game.lower().startswith('y'):\n",
    "        game_on = True\n",
    "    else:\n",
    "        game_on = False\n",
    "    #If the game is on, we now start playing and it is Player 1 turn to play\n",
    "    #We use a while loop that indicates game_on is true, and then set te conditon to play if it's player 1 turn\n",
    "    \n",
    "    while game_on:  \n",
    "        if player_turn == 'Player 1':\n",
    "            #it's player 1's turn, we display the board, they choose position, and input their marker      \n",
    "            display_board(theBoard)\n",
    "            position = player_choice(theBoard)\n",
    "            place_marker(theBoard,player1_marker,position)\n",
    "            #check for a win, display the board, and announce that Player 1 has won\n",
    "            #to check for a win, we use the win_check from step 4. If the function is True, there is a win. Gsme is off \n",
    "            if win_check(theBoard,player1_marker):\n",
    "                display_board(theBoard)\n",
    "                print('Player 1 has won the game')\n",
    "                game_on = False      \n",
    "            else:\n",
    "                #we check if there is a tie. That is by checking if the board is full. \n",
    "                #We check if full_board_check is True. if it is , there is a draw   \n",
    "                if full_board_check(theBoard):     \n",
    "                    display_board(theBoard)\n",
    "                    print('The game was drawn')\n",
    "                    break\n",
    "                else:\n",
    "                    #we now turn to the next player, Player 2\n",
    "                    player_turn = 'Player 2'\n",
    "        else:\n",
    "            #it's now Player 2 turn\n",
    "            #we display the board for player 2, we take their position and marker  \n",
    "            display_board(theBoard)\n",
    "            position = player_choice(theBoard)\n",
    "            place_marker(theBoard,player2_marker,position)\n",
    "            #check if Player 2 has won, display the board, print that they have won. Game is off, we check for a draw \n",
    "            if win_check(theBoard,player2_marker):\n",
    "                display_board(theBoard)\n",
    "                print('Player 2 has won')\n",
    "                game_on = False\n",
    "            #check for a tie, i.e, full_board_check is True, and then break to let loop go to Player 1\n",
    "            else: \n",
    "                if full_board_check(theBoard):\n",
    "                    display_board(theBoard)\n",
    "                    print('The game was drawn')\n",
    "                    break\n",
    "                else:\n",
    "                    player_turn = 'Player 1'\n",
    "    #while the game is not on, we end the game by exiting the loop.\n",
    "    #We check if the player wishes to play again. The function is replay(). We set it to no so we can exti loop\n",
    "    if not replay():\n",
    "        break"
   ]
  },
  {
   "cell_type": "code",
   "execution_count": null,
   "metadata": {},
   "outputs": [],
   "source": []
  }
 ],
 "metadata": {
  "kernelspec": {
   "display_name": "Python 3",
   "language": "python",
   "name": "python3"
  },
  "language_info": {
   "codemirror_mode": {
    "name": "ipython",
    "version": 3
   },
   "file_extension": ".py",
   "mimetype": "text/x-python",
   "name": "python",
   "nbconvert_exporter": "python",
   "pygments_lexer": "ipython3",
   "version": "3.7.3"
  }
 },
 "nbformat": 4,
 "nbformat_minor": 2
}
